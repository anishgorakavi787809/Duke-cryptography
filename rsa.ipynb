{
 "cells": [
  {
   "cell_type": "code",
   "execution_count": 5,
   "metadata": {},
   "outputs": [
    {
     "name": "stdout",
     "output_type": "stream",
     "text": [
      "p:881\n",
      "q:2909\n",
      "max chars is 3\n",
      "[[1, 3, 199, 597, 8573, 25719, 1706027, 5118081], [1, 19, 47, 893, 8597, 163343, 404059, 7677121], [1, 13, 37, 169, 481, 1637, 6253, 21281, 60569, 276653, 787397, 10236161], [1, 3, 9, 1421689, 4265067, 12795201]]\n",
      "See array above, pick e that is prime?:893\n",
      "Enter message?:it is a nice day\n",
      "182910\n",
      "182810\n",
      "971023\n",
      "189914\n",
      "101397\n",
      "341010\n",
      "[1487370, 1171181, 1938640, 1156689, 1099823, 597155]\n"
     ]
    }
   ],
   "source": [
    "\n",
    "p = int(input(\"p:\"))\n",
    "q = int(input(\"q:\"))\n",
    "N = p * q\n",
    "M = (p - 1) * (q - 1)\n",
    "\n",
    "nums = \"\"\n",
    "lc = 0\n",
    "while True:\n",
    "    nums += \"99\"\n",
    "    if int(nums) > N:\n",
    "        break\n",
    "    lc += 1\n",
    "print(\"max chars is\",lc)\n",
    "\n",
    "def factors(num):\n",
    "    arr = []\n",
    "    for i in range(1,num + 1):\n",
    "        if num % i == 0:\n",
    "            arr.append(i)\n",
    "    return arr\n",
    "\n",
    "def isPrime(num):\n",
    "    count = 0\n",
    "    if (not num == 1 ):\n",
    "        for i in range(2,int(num ** 0.5) + 1):\n",
    "            if num % i == 0:\n",
    "                count += 1\n",
    "        if count == 2:\n",
    "            return True\n",
    "        else:\n",
    "            return False\n",
    "    else:\n",
    "        return False\n",
    "    \n",
    "nc = 2\n",
    "\n",
    "\n",
    "arr = [factors(M * 2 + 1),factors(M * 3 + 1),factors(M * 4 + 1),factors(M * 5 + 1)]\n",
    "print(arr)\n",
    "e = int(input(\"See array above, pick e that is prime?:\"))\n",
    "nums = \"\"\n",
    "smoshed = input(\"Enter message?:\")\n",
    "\n",
    "arr = []\n",
    "i = 0\n",
    "while len(smoshed) % 3 != 0:\n",
    "    smoshed += \" \"\n",
    "while i < len(smoshed) - 1:\n",
    "    tri = smoshed[i] + smoshed[i + 1] + smoshed[i + 2]\n",
    "    nums = \"\"\n",
    "    for t in tri:\n",
    "        if len(str(ord(t))) == 2 and t != \" \":\n",
    "            nums += str(ord(t))\n",
    "        elif t == \" \":\n",
    "            nums += \"10\"\n",
    "        else:\n",
    "            nums += str(ord(t) - 87)\n",
    "    print(nums)\n",
    "    arr.append(int(nums) ^ int(e) % int(N))\n",
    "    i += 3\n",
    "print(arr)\n"
   ]
  },
  {
   "cell_type": "code",
   "execution_count": 7,
   "metadata": {},
   "outputs": [
    {
     "name": "stdout",
     "output_type": "stream",
     "text": [
      "182910\n",
      "182810\n",
      "971023\n",
      "189914\n",
      "101397\n",
      "341010\n",
      "it is a nice day  \n"
     ]
    }
   ],
   "source": [
    "#Decrypter\n",
    "ntext = \"\"\n",
    "for a in arr:\n",
    "    \n",
    "    x = int(a) ^ int(pow(e,-1,M)) % int(N)\n",
    "    print(x)\n",
    "    x = str(x)\n",
    "    for i in range(len(str(x))/2):\n",
    "        xt = x[2 * i] + x[2 *i + 1]\n",
    "        if int(xt) == 10:\n",
    "            ntext += \" \"\n",
    "        elif int(xt) < 65 and int(xt) <= 35:\n",
    "            ntext += chr(int(xt) + 87)\n",
    "        else:\n",
    "            ntext += chr(int(xt))\n",
    "print(ntext)"
   ]
  },
  {
   "cell_type": "code",
   "execution_count": 56,
   "metadata": {},
   "outputs": [
    {
     "name": "stdout",
     "output_type": "stream",
     "text": [
      "174196\n",
      "\u0015\n"
     ]
    }
   ],
   "source": [
    "N = 182137\n",
    "p = 23\n",
    "q = 7919\n",
    "e = 87\n",
    "M = (p - 1) * (q - 1)\n",
    "print(M)\n",
    "print(chr(113562 ^ pow(e,-1,M) % p + 0))"
   ]
  },
  {
   "cell_type": "code",
   "execution_count": 54,
   "metadata": {},
   "outputs": [
    {
     "name": "stdout",
     "output_type": "stream",
     "text": [
      "b\n"
     ]
    }
   ],
   "source": [
    "print(chr(98))"
   ]
  },
  {
   "cell_type": "code",
   "execution_count": null,
   "metadata": {},
   "outputs": [],
   "source": []
  }
 ],
 "metadata": {
  "kernelspec": {
   "display_name": "SageMath 9.0",
   "language": "sage",
   "name": "sagemath"
  },
  "language_info": {
   "codemirror_mode": {
    "name": "ipython",
    "version": 3
   },
   "file_extension": ".py",
   "mimetype": "text/x-python",
   "name": "python",
   "nbconvert_exporter": "python",
   "pygments_lexer": "ipython3",
   "version": "3.8.10"
  }
 },
 "nbformat": 4,
 "nbformat_minor": 4
}
