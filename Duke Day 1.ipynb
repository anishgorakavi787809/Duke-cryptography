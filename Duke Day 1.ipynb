{
 "cells": [
  {
   "cell_type": "code",
   "execution_count": 8,
   "metadata": {},
   "outputs": [
    {
     "name": "stdout",
     "output_type": "stream",
     "text": [
      "Hello World\n",
      "H\n"
     ]
    }
   ],
   "source": [
    "#Test 1\n",
    "print(\"Hello World\")\n",
    "print(chr(int(\"072\")))"
   ]
  },
  {
   "cell_type": "code",
   "execution_count": 2,
   "metadata": {},
   "outputs": [
    {
     "name": "stdout",
     "output_type": "stream",
     "text": [
      "iefuh4eifuoy2r39p8o;ilwfho42hof\n"
     ]
    }
   ],
   "source": [
    "print(\"iefuh4eifuoy2r39p8o;ilwfho42hof\")"
   ]
  },
  {
   "cell_type": "code",
   "execution_count": 3,
   "metadata": {},
   "outputs": [
    {
     "name": "stdout",
     "output_type": "stream",
     "text": [
      "0\n",
      "1\n",
      "2\n"
     ]
    }
   ],
   "source": [
    "for i in range(3):\n",
    "    print(i)"
   ]
  },
  {
   "cell_type": "code",
   "execution_count": 4,
   "metadata": {},
   "outputs": [
    {
     "name": "stdout",
     "output_type": "stream",
     "text": [
      "Tell me your message to encrypt?hfekjfehkjfhejkfhejhekfhe\n",
      "hfekjfehkjfhejkfhejhekfhe\n"
     ]
    }
   ],
   "source": [
    "message = input(\"Tell me your message to encrypt?\")\n",
    "print(message)"
   ]
  },
  {
   "cell_type": "markdown",
   "metadata": {},
   "source": [
    "Double spacer"
   ]
  },
  {
   "cell_type": "code",
   "execution_count": 1,
   "metadata": {},
   "outputs": [
    {
     "name": "stdout",
     "output_type": "stream",
     "text": [
      "Tell me your message to encrypt?Duke Collage\n",
      "DDuukkee CCoollllaaggee\n"
     ]
    }
   ],
   "source": [
    "\n",
    "message = input(\"Tell me your message to encrypt?\")\n",
    "newm = \"\"\n",
    "\n",
    "for m in message:\n",
    "    if m == \" \":\n",
    "        newm += m\n",
    "        continue\n",
    "    newm += m + m\n",
    "print(newm)"
   ]
  },
  {
   "cell_type": "markdown",
   "metadata": {},
   "source": [
    "Random substitution "
   ]
  },
  {
   "cell_type": "code",
   "execution_count": 17,
   "metadata": {},
   "outputs": [
    {
     "name": "stdout",
     "output_type": "stream",
     "text": [
      "Enter plain text?:Steven is a good mentor and he is in Duke University\n",
      "WXIZIR MW E KSSH QIRXSV ERH LI MW MR HYOI YRMZIVWMXC\n"
     ]
    }
   ],
   "source": [
    "ptext = input(\"Enter plain text?:\").upper()\n",
    "key = {\"A\":\"E\",\n",
    "      \"B\":\"F\",\n",
    "       \"C\":\"G\",\n",
    "       \"D\":\"H\",\n",
    "       \"E\":\"I\",\n",
    "       \"F\":\"J\",\n",
    "       \"G\":\"K\",\n",
    "       \"H\":\"L\",\n",
    "       \"I\":\"M\",\n",
    "       \"J\":\"N\",\n",
    "       \"K\":\"O\",\n",
    "       \"L\":\"P\",\n",
    "       \"M\":\"Q\",\n",
    "       \"N\":\"R\",\n",
    "       \"O\":\"S\",\n",
    "       \"P\":\"T\",\n",
    "       \"Q\":\"U\",\n",
    "       \"R\":\"V\",\n",
    "       \"S\":\"W\",\n",
    "       \"T\":\"X\",\n",
    "       \"U\":\"Y\",\n",
    "       \"V\":\"Z\",\n",
    "       \"W\":\"A\",\n",
    "       \"X\":\"B\",\n",
    "       \"Y\":\"C\",\n",
    "       \"Z\":\"D\"\n",
    "      }\n",
    "ciphertext = \"\"\n",
    "\n",
    "for p in ptext:\n",
    "    if p == \" \":\n",
    "        ciphertext += \" \"\n",
    "    else:\n",
    "        ciphertext += key[p]\n",
    "print(ciphertext)"
   ]
  },
  {
   "cell_type": "code",
   "execution_count": 18,
   "metadata": {},
   "outputs": [
    {
     "name": "stdout",
     "output_type": "stream",
     "text": [
      "Enter Cipher text?:WXIZIR MW E KSSH QIRXSV ERH LI MW MR HYOI YRMZIVWMXC\n",
      "STEVEN IS A GOOD MENTOR AND HE IS IN DUKE UNIVERSITY\n"
     ]
    }
   ],
   "source": [
    "ciphertext = input(\"Enter Cipher text?:\").upper()\n",
    "key = {\"A\":\"E\",\n",
    "      \"B\":\"F\",\n",
    "       \"C\":\"G\",\n",
    "       \"D\":\"H\",\n",
    "       \"E\":\"I\",\n",
    "       \"F\":\"J\",\n",
    "       \"G\":\"K\",\n",
    "       \"H\":\"L\",\n",
    "       \"I\":\"M\",\n",
    "       \"J\":\"N\",\n",
    "       \"K\":\"O\",\n",
    "       \"L\":\"P\",\n",
    "       \"M\":\"Q\",\n",
    "       \"N\":\"R\",\n",
    "       \"O\":\"S\",\n",
    "       \"P\":\"T\",\n",
    "       \"Q\":\"U\",\n",
    "       \"R\":\"V\",\n",
    "       \"S\":\"W\",\n",
    "       \"T\":\"X\",\n",
    "       \"U\":\"Y\",\n",
    "       \"V\":\"Z\",\n",
    "       \"W\":\"A\",\n",
    "       \"X\":\"B\",\n",
    "       \"Y\":\"C\",\n",
    "       \"Z\":\"D\"\n",
    "      }\n",
    "ptext = \"\"\n",
    "\n",
    "for c in ciphertext:\n",
    "    if c == \" \":\n",
    "        ptext += \" \"\n",
    "        continue\n",
    "    for k in key:\n",
    "        if key[k] == c:\n",
    "            ptext += k\n",
    "print(ptext)"
   ]
  },
  {
   "cell_type": "markdown",
   "metadata": {},
   "source": [
    "Manual shift"
   ]
  },
  {
   "cell_type": "code",
   "execution_count": null,
   "metadata": {},
   "outputs": [
    {
     "name": "stdout",
     "output_type": "stream",
     "text": [
      "Enter config?:qwertyuiopasdfghjklzxcvbnm\n",
      "1: encrypt\n",
      "2: decrypt\n",
      "3: Change Shiftconfig\n",
      "1\n",
      "Enter plaintext for me to encrypt?:Ali is a good TA\n",
      "QSO OL Q UGGR ZQ\n",
      "1: encrypt\n",
      "2: decrypt\n",
      "3: Change Shiftconfig\n"
     ]
    }
   ],
   "source": [
    "#\n",
    "import string\n",
    "\n",
    "def isChar(char):\n",
    "    for l in string.ascii_uppercase:\n",
    "        if l == char:\n",
    "            return True\n",
    "    return False\n",
    "def encrypt(shiftconfig):\n",
    "    plaintext = input(\"Enter plaintext for me to encrypt?:\").upper()\n",
    "    \n",
    "   \n",
    "\n",
    "    ntext = \"\"\n",
    "\n",
    "    for p in plaintext:\n",
    "        if p == \" \":\n",
    "            ntext += \" \"\n",
    "       \n",
    "        else:\n",
    "            if not isChar(p):\n",
    "                ntext += p\n",
    "            else:\n",
    "                ntext += shiftconfig[ord(p) - ord(\"A\")]\n",
    "    print(ntext)\n",
    "\n",
    "def decrypt(shiftconfig):\n",
    "    ciphertext = input(\"Enter ciphertext?:\").upper()\n",
    "\n",
    "\n",
    "    ntext = \"\"\n",
    "    for c in ciphertext:\n",
    "        if c == \" \":\n",
    "            ntext += \" \"\n",
    "   \n",
    "        else:\n",
    "            if isChar(c):\n",
    "                \n",
    "                num = 65\n",
    "                for so in shiftconfig:\n",
    "                    if so == c:\n",
    "                        ntext += chr(num)\n",
    "                        break\n",
    "                    num += 1\n",
    "            else:\n",
    "                ntext += c\n",
    "    print(ntext)\n",
    "    \n",
    "shiftconfig = input(\"Enter config?:\").upper()\n",
    "while True:\n",
    "    options = 0\n",
    "    while True:\n",
    "        print(\"1: encrypt\")\n",
    "        print(\"2: decrypt\")\n",
    "        print(\"3: Change Shiftconfig\")\n",
    "        options = int(input())\n",
    "        if options == 1 or options == 2 or options == 3:\n",
    "            break\n",
    "        else:\n",
    "            print(\"only 1 or 2 or 3!\")\n",
    "    if options == 1:\n",
    "        encrypt(shiftconfig)\n",
    "    elif options == 2:\n",
    "        decrypt(shiftconfig)\n",
    "    else:\n",
    "        shiftconfig = input(\"Enter config?:\").upper()"
   ]
  },
  {
   "cell_type": "code",
   "execution_count": 3,
   "metadata": {},
   "outputs": [
    {
     "name": "stdout",
     "output_type": "stream",
     "text": [
      "Enter plaintext for me to encrypt?:I love goole\n",
      "Shift by how much?:20\n",
      "] y {y\n"
     ]
    }
   ],
   "source": [
    "#Ceaser maker by x num\n",
    "\n",
    "plaintext = input(\"Enter plaintext for me to encrypt?:\")\n",
    "\n",
    "shiftnum = int(input(\"Shift by how much?:\"))\n",
    "\n",
    "newtxt = \"\"\n",
    "\n",
    "for p in plaintext:\n",
    "    if p == \" \":\n",
    "        newtxt += \" \"\n",
    "    else:\n",
    "        newtxt += chr(ord(p) + shiftnum)\n",
    "print(newtxt)"
   ]
  },
  {
   "cell_type": "code",
   "execution_count": 10,
   "metadata": {},
   "outputs": [
    {
     "name": "stdout",
     "output_type": "stream",
     "text": [
      "Enter Encrypted word?ILQLVKHG\n",
      "Times?:100\n",
      "HKPKUJGF\n",
      "GJOJTIFE\n",
      "FINISHED\n",
      "EHMHRGDC\n",
      "DGLGQFCB\n",
      "CFKFPEBA\n",
      "BEJEODA@\n",
      "ADIDNC@?\n",
      "@CHCMB?>\n",
      "?BGBLA>=\n",
      ">AFAK@=<\n",
      "=@E@J?<;\n",
      "<?D?I>;:\n",
      ";>C>H=:9\n",
      ":=B=G<98\n",
      "9<A<F;87\n",
      "8;@;E:76\n",
      "7:?:D965\n",
      "69>9C854\n",
      "58=8B743\n",
      "47<7A632\n",
      "36;6@521\n",
      "25:5?410\n",
      "1494>30/\n",
      "0383=2/.\n",
      "/272<1.-\n",
      ".161;0-,\n",
      "-050:/,+\n",
      ",/4/9.+*\n",
      "+.3.8-*)\n",
      "*-2-7,)(\n",
      "),1,6+('\n",
      "(+0+5*'&\n",
      "'*/*4)&%\n",
      "&).)3(%$\n",
      "%(-(2'$#\n",
      "$','1&#\"\n",
      "#&+&0%\"!\n",
      "\"%*%/$! \n",
      "!$)$.# \u001f\n",
      " #(#-\"\u001f\u001e",
      "\n",
      "\u001f\"'\",!\u001e",
      "\u001d",
      "\n",
      "\u001e",
      "!&!+ \u001d",
      "\u001c",
      "\n",
      "\u001d",
      " % *\u001f\u001c",
      "\u001b\n",
      "\u001c",
      "\u001f$\u001f)\u001e",
      "\u001b\u001a\n",
      "\u001b\u001e",
      "#\u001e",
      "(\u001d",
      "\u001a\u0019\n",
      "\u001a\u001d",
      "\"\u001d",
      "'\u001c",
      "\u0019\u0018\n",
      "\u0019\u001c",
      "!\u001c",
      "&\u001b\u0018\u0017\n",
      "\u0018\u001b \u001b%\u001a\u0017\u0016\n",
      "\u0017\u001a\u001f\u001a$\u0019\u0016\u0015\n",
      "\u0016\u0019\u001e",
      "\u0019#\u0018\u0015\u0014\n",
      "\u0015\u0018\u001d",
      "\u0018\"\u0017\u0014\u0013\n",
      "\u0014\u0017\u001c",
      "\u0017!\u0016\u0013\u0012\n",
      "\u0013\u0016\u001b\u0016 \u0015\u0012\u0011\n",
      "\u0012\u0015\u001a\u0015\u001f\u0014\u0011\u0010\n",
      "\u0011\u0014\u0019\u0014\u001e",
      "\u0013\u0010\u000f\n",
      "\u0010\u0013\u0018\u0013\u001d",
      "\u0012\u000f\u000e\n",
      "\u000f\u0012\u0017\u0012\u001c",
      "\u0011\u000e\n",
      "\f",
      "\u0011\u0016\u0011\u001b\u0010\n",
      "\u0010\u0015\u0010\u001a\u000f\f",
      "\u000b",
      "\n",
      "\f",
      "\u000f\u0014\u000f\u0019\u000e\u000b",
      "\n",
      "\n",
      "\u000b",
      "\u000e\u0013\u000e\u0018\n",
      "\t\n",
      "\n",
      "\u0017\f",
      "\n",
      "\t\f",
      "\u0011\f",
      "\u0016\u0007\n",
      "\b\u000b",
      "\u0010\u000b",
      "\u0015\n",
      "\u0007\u0006\n",
      "\u0007\n",
      "\u000f\n",
      "\u0014\t\u0006\u0005\n",
      "\u0006\t\u000e\t\u0005\u0004\n",
      "\u0012\u0007\u0004\u0003\n",
      "\u0004\u0007\f",
      "\u0007\u0011\u0006\u0003\u0002\n",
      "\u0003\u0006\u000b",
      "\u0006\u0010\u0005\u0002\u0001\n",
      "\u0002\u0005\n",
      "\u0005\u000f\u0004\u0001\u0000\n"
     ]
    },
    {
     "ename": "ValueError",
     "evalue": "chr() arg not in range(0x110000)",
     "output_type": "error",
     "traceback": [
      "\u001b[0;31m---------------------------------------------------------------------------\u001b[0m",
      "\u001b[0;31mValueError\u001b[0m                                Traceback (most recent call last)",
      "\u001b[0;32m<ipython-input-10-defd448dfe13>\u001b[0m in \u001b[0;36m<module>\u001b[0;34m\u001b[0m\n\u001b[1;32m     10\u001b[0m \u001b[0mword\u001b[0m \u001b[0;34m=\u001b[0m \u001b[0minput\u001b[0m\u001b[0;34m(\u001b[0m\u001b[0;34m\"Enter Encrypted word?\"\u001b[0m\u001b[0;34m)\u001b[0m\u001b[0;34m\u001b[0m\u001b[0;34m\u001b[0m\u001b[0m\n\u001b[1;32m     11\u001b[0m \u001b[0;32mfor\u001b[0m \u001b[0mx\u001b[0m \u001b[0;32min\u001b[0m \u001b[0mrange\u001b[0m\u001b[0;34m(\u001b[0m\u001b[0mInteger\u001b[0m\u001b[0;34m(\u001b[0m\u001b[0;36m1\u001b[0m\u001b[0;34m)\u001b[0m\u001b[0;34m,\u001b[0m\u001b[0mint\u001b[0m\u001b[0;34m(\u001b[0m\u001b[0minput\u001b[0m\u001b[0;34m(\u001b[0m\u001b[0;34m\"Times?:\"\u001b[0m\u001b[0;34m)\u001b[0m\u001b[0;34m)\u001b[0m \u001b[0;34m+\u001b[0m \u001b[0mInteger\u001b[0m\u001b[0;34m(\u001b[0m\u001b[0;36m1\u001b[0m\u001b[0;34m)\u001b[0m\u001b[0;34m)\u001b[0m\u001b[0;34m:\u001b[0m\u001b[0;34m\u001b[0m\u001b[0;34m\u001b[0m\u001b[0m\n\u001b[0;32m---> 12\u001b[0;31m     \u001b[0mbrute\u001b[0m\u001b[0;34m(\u001b[0m\u001b[0mword\u001b[0m\u001b[0;34m,\u001b[0m\u001b[0mx\u001b[0m\u001b[0;34m)\u001b[0m\u001b[0;34m\u001b[0m\u001b[0;34m\u001b[0m\u001b[0m\n\u001b[0m",
      "\u001b[0;32m<ipython-input-10-defd448dfe13>\u001b[0m in \u001b[0;36mbrute\u001b[0;34m(word, times)\u001b[0m\n\u001b[1;32m      5\u001b[0m             \u001b[0mnewword\u001b[0m \u001b[0;34m+=\u001b[0m \u001b[0;34m\" \"\u001b[0m\u001b[0;34m\u001b[0m\u001b[0;34m\u001b[0m\u001b[0m\n\u001b[1;32m      6\u001b[0m         \u001b[0;32melse\u001b[0m\u001b[0;34m:\u001b[0m\u001b[0;34m\u001b[0m\u001b[0;34m\u001b[0m\u001b[0m\n\u001b[0;32m----> 7\u001b[0;31m             \u001b[0mnewword\u001b[0m \u001b[0;34m+=\u001b[0m \u001b[0mchr\u001b[0m\u001b[0;34m(\u001b[0m\u001b[0mord\u001b[0m\u001b[0;34m(\u001b[0m\u001b[0mw\u001b[0m\u001b[0;34m)\u001b[0m \u001b[0;34m-\u001b[0m \u001b[0mtimes\u001b[0m\u001b[0;34m)\u001b[0m\u001b[0;34m\u001b[0m\u001b[0;34m\u001b[0m\u001b[0m\n\u001b[0m\u001b[1;32m      8\u001b[0m     \u001b[0mprint\u001b[0m\u001b[0;34m(\u001b[0m\u001b[0mnewword\u001b[0m\u001b[0;34m)\u001b[0m\u001b[0;34m\u001b[0m\u001b[0;34m\u001b[0m\u001b[0m\n\u001b[1;32m      9\u001b[0m \u001b[0;34m\u001b[0m\u001b[0m\n",
      "\u001b[0;31mValueError\u001b[0m: chr() arg not in range(0x110000)"
     ]
    }
   ],
   "source": [
    "\n",
    "def brute(word,times):\n",
    "    newword = \"\"\n",
    "    for w in word:\n",
    "        if w == \" \":\n",
    "            newword += \" \"\n",
    "        else:\n",
    "            newword += chr(ord(w) - times)\n",
    "    print(newword)\n",
    "\n",
    "word = input(\"Enter Encrypted word?\")\n",
    "for x in range(1,int(input(\"Times?:\")) + 1):\n",
    "    brute(word,x)"
   ]
  },
  {
   "cell_type": "code",
   "execution_count": null,
   "metadata": {},
   "outputs": [],
   "source": []
  },
  {
   "cell_type": "code",
   "execution_count": null,
   "metadata": {},
   "outputs": [],
   "source": []
  }
 ],
 "metadata": {
  "kernelspec": {
   "display_name": "SageMath 9.0",
   "language": "sage",
   "name": "sagemath"
  },
  "language_info": {
   "codemirror_mode": {
    "name": "ipython",
    "version": 3
   },
   "file_extension": ".py",
   "mimetype": "text/x-python",
   "name": "python",
   "nbconvert_exporter": "python",
   "pygments_lexer": "ipython3",
   "version": "3.8.10"
  }
 },
 "nbformat": 4,
 "nbformat_minor": 4
}
