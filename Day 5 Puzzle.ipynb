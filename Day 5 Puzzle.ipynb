{
 "cells": [
  {
   "cell_type": "code",
   "execution_count": 11,
   "metadata": {},
   "outputs": [
    {
     "name": "stdout",
     "output_type": "stream",
     "text": [
      "Enter a?:1\n",
      "[0, 2, 3, 4, 5, 6, 7, 8, 9]\n",
      "[0, 2, 3, 4, 5, 6, 7, 8, 9]\n",
      "Numbers you can add to make ab divisible by 2: [0, 2, 4, 6, 8]\n",
      "enter b?:0\n",
      "[2, 3, 4, 5, 6, 7, 8, 9]\n",
      "Factors to use with c: [2, 5, 8]\n",
      "c?:2\n",
      "1\n"
     ]
    }
   ],
   "source": [
    "arr = [\"3\",\"2\",\"1\",\"6\",\"5\",\"4\",\"9\",\"\",\"\",\"0\"]"
   ]
  },
  {
   "cell_type": "code",
   "execution_count": null,
   "metadata": {},
   "outputs": [
    {
     "name": "stdout",
     "output_type": "stream",
     "text": [
      "N cannot be 1\n",
      "25144\n"
     ]
    }
   ],
   "source": [
    "\n",
    "arr = []\n",
    "arr.append(n)\n",
    "def main(n,st=True):\n",
    "    if n == 1 and not st:\n",
    "        return arr\n",
    "    if n % 2 == 0:\n",
    "        arr.append(n/2)\n",
    "        main(n/2,st=False)\n",
    "    else:\n",
    "        arr.append(n * 3 + 1)\n",
    "        main(n * 3 + 1,st=False)\n",
    "n = 1\n",
    "while True:\n",
    "    try:\n",
    "        main(n)\n",
    "        \n",
    "        n += 1\n",
    "    except:\n",
    "        print(\"N cannot be 1\")\n",
    "        print(n)"
   ]
  },
  {
   "cell_type": "code",
   "execution_count": null,
   "metadata": {},
   "outputs": [],
   "source": []
  }
 ],
 "metadata": {
  "kernelspec": {
   "display_name": "SageMath 9.0",
   "language": "sage",
   "name": "sagemath"
  },
  "language_info": {
   "codemirror_mode": {
    "name": "ipython",
    "version": 3
   },
   "file_extension": ".py",
   "mimetype": "text/x-python",
   "name": "python",
   "nbconvert_exporter": "python",
   "pygments_lexer": "ipython3",
   "version": "3.8.10"
  }
 },
 "nbformat": 4,
 "nbformat_minor": 4
}
