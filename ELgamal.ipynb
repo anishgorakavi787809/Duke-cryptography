{
 "cells": [
  {
   "cell_type": "code",
   "execution_count": 36,
   "metadata": {
    "scrolled": true
   },
   "outputs": [
    {
     "name": "stdout",
     "output_type": "stream",
     "text": [
      "p?:854801\n",
      "6\n",
      "g?:1112\n",
      "(1).Make A, (2).add A2\n",
      "A?:216435\n",
      "216435\n",
      "3\n",
      "Message?https://www.youtube.com/watch?v=dQw4w9WgXcQ\n",
      "h\n",
      "t\n",
      "t\n",
      "p\n",
      "s\n",
      ":\n",
      "/\n",
      "/\n",
      "w\n",
      "w\n",
      "w\n",
      ".\n",
      "y\n",
      "o\n",
      "u\n",
      "t\n",
      "u\n",
      "b\n",
      "e\n",
      ".\n",
      "c\n",
      "o\n",
      "m\n",
      "/\n",
      "w\n",
      "a\n",
      "t\n",
      "c\n",
      "h\n",
      "?\n",
      "v\n",
      "=\n",
      "d\n",
      "Q\n",
      "w\n",
      "4\n",
      "w\n",
      "9\n",
      "W\n",
      "g\n",
      "X\n",
      "c\n",
      "Q\n",
      "[595175, 262987, 826887, 518648, 401303, 452264, 666778, 105295, 333288, 151436, 406452, 635372, 280156, 461000, 602956, 770347, 380292, 133843, 439085, 318509, 469559, 595830, 394274, 4360, 596073, 221256, 274830, 733956, 355219, 268671, 350374, 808746, 99876, 743576, 319727, 668361, 776517, 144036, 803411, 188724, 388295, 689204, 355830]\n",
      "[327189, 436288, 102184, 100057, 694129, 733742, 654974, 353219, 347170, 297559, 113250, 665145, 567136, 768766, 802881, 778817, 526099, 273749, 211893, 667857, 666611, 68731, 31489, 239377, 448406, 797771, 161734, 172276, 511978, 511666, 475918, 827495, 201347, 368666, 145435, 378578, 688370, 748628, 290276, 599155, 209886, 547653, 829503]\n"
     ]
    }
   ],
   "source": [
    "import random\n",
    "p = int(input(\"p?:\"))\n",
    "print(len(str(p)))\n",
    "g = int(input(\"g?:\"))\n",
    "\n",
    "op = int(input(\"(1).Make A, (2).add A\"))\n",
    "A = 0\n",
    "if op == 1:\n",
    "    x = int(input(\"x?:\"))\n",
    "    A = g ^ x % p\n",
    "else:\n",
    "    A = int(input(\"A?:\"))\n",
    "print(A)\n",
    "lc = 0\n",
    "\n",
    "nums = \"\"\n",
    "\n",
    "while True:\n",
    "    nums += \"99\"\n",
    "    lc += 1\n",
    "    if int(nums) > p:\n",
    "        break\n",
    "\n",
    "print(lc)\n",
    "\n",
    "msg = input(\"Message?\")\n",
    "C = []\n",
    "D = []\n",
    "for m in msg:\n",
    "    print(m)\n",
    "    k = random.randint(1,p - 1)\n",
    "    C.append(g ^ k % p)\n",
    "    D.append((ord(m)-30) * A ^ k % p)\n",
    "print(C)\n",
    "print(D)"
   ]
  },
  {
   "cell_type": "code",
   "execution_count": 32,
   "metadata": {},
   "outputs": [
    {
     "name": "stdout",
     "output_type": "stream",
     "text": [
      "t\n"
     ]
    }
   ],
   "source": [
    "print(chr(29 + 87))"
   ]
  },
  {
   "cell_type": "code",
   "execution_count": 44,
   "metadata": {},
   "outputs": [
    {
     "name": "stdout",
     "output_type": "stream",
     "text": [
      "20164716\n",
      "\n"
     ]
    }
   ],
   "source": [
    "C = [3671]\n",
    "\n",
    "D = [406906]\n",
    "\n",
    "ntext = \"\"\n",
    "for i in range(len(C)):\n",
    "    y = C[i] ^ 31 % p\n",
    "    e = pow(y,-1,p)\n",
    "    print(e * D[i] % p)\n",
    "print(ntext)\n",
    "s = \"20164716\"\n",
    "\n",
    "for i in range)"
   ]
  },
  {
   "cell_type": "code",
   "execution_count": 42,
   "metadata": {},
   "outputs": [
    {
     "name": "stdout",
     "output_type": "stream",
     "text": [
      "burp\n"
     ]
    }
   ],
   "source": [
    "p,g,x,c,d=[27644437,12345,14,16259522,2977319]\n",
    "y = c ^ x % p\n",
    "e = pow(y,-1,p)\n",
    "m = e * d % p\n",
    "m = str(m)\n",
    "ntext = \"\"\n",
    "for me in range(len(m)/2):\n",
    "    msg = m[me * 2] + m[me * 2 + 1]\n",
    "    ntext += chr(int(msg) + 87)\n",
    "print(ntext)"
   ]
  },
  {
   "cell_type": "code",
   "execution_count": 8,
   "metadata": {},
   "outputs": [
    {
     "name": "stdout",
     "output_type": "stream",
     "text": [
      "Enter p?:556981\n",
      "Enter g?:538724\n",
      "Enter x?:627\n",
      "enter cd?:119773 348223\n",
      "syo\n"
     ]
    }
   ],
   "source": [
    "p = int(input(\"Enter p?:\"))\n",
    "g = int(input(\"Enter g?:\"))\n",
    "x = int(input(\"Enter x?:\"))\n",
    "cd = input(\"enter cd?:\").split()\n",
    "y = int(cd[0]) ^ x % p\n",
    "e = pow(y,-1,p)\n",
    "m = str(e * int(cd[1]) % p)\n",
    "ntext = \"\"\n",
    "for i in range(len(m) /2):\n",
    "    msg = m[i * 2] + m[i *2 + 1]\n",
    "    if int(msg) == 10:\n",
    "        ntext += \" \"\n",
    "    \n",
    "    elif int(msg) < 65 and int(msg) <= 35:\n",
    "        ntext += chr(int(msg) + 87)\n",
    "    else:\n",
    "        ntext += chr(int(msg))\n",
    "print(ntext)"
   ]
  },
  {
   "cell_type": "code",
   "execution_count": 2,
   "metadata": {},
   "outputs": [
    {
     "name": "stdout",
     "output_type": "stream",
     "text": [
      "97\n"
     ]
    }
   ],
   "source": [
    "print(ord(\"a\"))"
   ]
  },
  {
   "cell_type": "code",
   "execution_count": 13,
   "metadata": {},
   "outputs": [
    {
     "name": "stdout",
     "output_type": "stream",
     "text": [
      "False\n"
     ]
    }
   ],
   "source": [
    "print(int(5/2) == 5/2)"
   ]
  },
  {
   "cell_type": "code",
   "execution_count": 38,
   "metadata": {},
   "outputs": [
    {
     "name": "stdout",
     "output_type": "stream",
     "text": [
      "381743\n",
      "516920\n",
      "388768\n",
      "635511\n",
      "622606\n",
      "803863\n",
      "628611\n",
      "643015\n",
      "419044\n",
      "110383\n",
      "509353\n",
      "522274\n",
      "358809\n",
      "658342\n",
      "366648\n",
      "827300\n",
      "191724\n",
      "351639\n",
      "378511\n",
      "342140\n",
      "73235\n",
      "231225\n",
      "681900\n",
      "64313\n",
      "567573\n",
      "298038\n",
      "610269\n",
      "761935\n",
      "163929\n",
      "31\n"
     ]
    }
   ],
   "source": [
    "n = 2\n",
    "while g ^ n % p != 216435:\n",
    "    \n",
    "    print(g ^ n % p)\n",
    "    n += 1\n",
    "print(n)"
   ]
  },
  {
   "cell_type": "code",
   "execution_count": 39,
   "metadata": {},
   "outputs": [
    {
     "name": "stdout",
     "output_type": "stream",
     "text": [
      "216435\n"
     ]
    }
   ],
   "source": [
    "print(1112 ^ 31 % p)"
   ]
  },
  {
   "cell_type": "code",
   "execution_count": 46,
   "metadata": {},
   "outputs": [
    {
     "name": "stdout",
     "output_type": "stream",
     "text": [
      "kgg\n"
     ]
    }
   ],
   "source": [
    "s = \"20164716\"\n",
    "ntext = \"\"\n",
    "for i in range(len(s)/2):\n",
    "    st = s[i * 2] + s[i * 2 + 1]\n",
    "    ntext += chr(int(st) + 87)\n",
    "print(ntext)"
   ]
  },
  {
   "cell_type": "code",
   "execution_count": null,
   "metadata": {},
   "outputs": [],
   "source": []
  }
 ],
 "metadata": {
  "kernelspec": {
   "display_name": "SageMath 9.0",
   "language": "sage",
   "name": "sagemath"
  },
  "language_info": {
   "codemirror_mode": {
    "name": "ipython",
    "version": 3
   },
   "file_extension": ".py",
   "mimetype": "text/x-python",
   "name": "python",
   "nbconvert_exporter": "python",
   "pygments_lexer": "ipython3",
   "version": "3.8.10"
  }
 },
 "nbformat": 4,
 "nbformat_minor": 4
}
